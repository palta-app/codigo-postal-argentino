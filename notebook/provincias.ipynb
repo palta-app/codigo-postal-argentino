{
 "cells": [
  {
   "cell_type": "code",
   "execution_count": 6,
   "id": "44ba13e6-c8c6-4162-bb92-ffa82df0e3f2",
   "metadata": {},
   "outputs": [],
   "source": [
    "import pandas as pd\n",
    "import requests\n",
    "from bs4 import BeautifulSoup\n",
    "from unidecode import unidecode\n",
    "import time"
   ]
  },
  {
   "cell_type": "code",
   "execution_count": 12,
   "id": "b2f1fa95-df94-40c0-8ccf-ba425bc04f82",
   "metadata": {},
   "outputs": [],
   "source": [
    "# Lee el archivo CSV\n",
    "df_provinces = pd.read_csv('../data/provincias_argentina.csv')\n",
    "\n",
    "# Evito buenos aires y capital\n",
    "df_provinces = df_provinces.tail(22)\n"
   ]
  },
  {
   "cell_type": "code",
   "execution_count": 14,
   "id": "d73e3b46-e807-4c07-a250-e718270dcdb8",
   "metadata": {},
   "outputs": [
    {
     "name": "stdout",
     "output_type": "stream",
     "text": [
      "https://codigo-postal.co/argentina/catamarca\n",
      "https://codigo-postal.co/argentina/chaco\n",
      "https://codigo-postal.co/argentina/chubut\n",
      "https://codigo-postal.co/argentina/cordoba\n",
      "https://codigo-postal.co/argentina/corrientes\n",
      "https://codigo-postal.co/argentina/entre-rios\n",
      "https://codigo-postal.co/argentina/formosa\n",
      "https://codigo-postal.co/argentina/jujuy\n",
      "https://codigo-postal.co/argentina/la-pampa\n",
      "https://codigo-postal.co/argentina/la-rioja\n",
      "https://codigo-postal.co/argentina/mendoza\n",
      "https://codigo-postal.co/argentina/misiones\n",
      "https://codigo-postal.co/argentina/neuquen\n",
      "https://codigo-postal.co/argentina/rio-negro\n",
      "https://codigo-postal.co/argentina/salta\n",
      "https://codigo-postal.co/argentina/san-juan\n",
      "https://codigo-postal.co/argentina/san-luis\n",
      "https://codigo-postal.co/argentina/santa-cruz\n",
      "https://codigo-postal.co/argentina/santa-fe\n",
      "https://codigo-postal.co/argentina/santiago-del-estero\n",
      "https://codigo-postal.co/argentina/tierra-del-fuego\n",
      "https://codigo-postal.co/argentina/tucuman\n"
     ]
    }
   ],
   "source": [
    "# URL base\n",
    "base_url = \"https://codigo-postal.co/argentina/\"\n",
    "\n",
    "# Para cada provincia en el DataFrame\n",
    "for index, row in df_provinces.iterrows():\n",
    "    # Crea la URL para la provincia\n",
    "    province_url = base_url + row['Provincia']\n",
    "    print(province_url)\n",
    "    # Solicita la página\n",
    "    response = requests.get(province_url)\n",
    "    \n",
    "    # Analiza el HTML de la página\n",
    "    soup = BeautifulSoup(response.text, 'html.parser')\n",
    "    \n",
    "    # Encuentra el elemento ul con class=\"column-list\"\n",
    "    localities_ul = soup.find('ul', class_='cities')\n",
    "    \n",
    "    # Si existe el elemento ul\n",
    "    if localities_ul is not None:\n",
    "        # Encuentra todos los elementos li dentro del ul\n",
    "        localities_li = localities_ul.find_all('li')\n",
    "        \n",
    "        # Extrae el texto de cada elemento li, lo convierte a minúsculas, elimina los tildes y reemplaza los espacios por guiones\n",
    "        localities = [unidecode(li.text.lower().replace(' ', '-')) for li in localities_li]\n",
    "        \n",
    "        # Crea un DataFrame a partir de la lista\n",
    "        df_localities = pd.DataFrame(localities, columns=['Localidad'])\n",
    "        \n",
    "        # Guarda el DataFrame en un archivo CSV\n",
    "        df_localities.to_csv(f'../data/provincias/{row[\"Provincia\"]}_localidad.csv', index=False)\n",
    "    \n",
    "    # Pausa para evitar sobrecargar el servidor\n",
    "    time.sleep(1)\n"
   ]
  }
 ],
 "metadata": {
  "kernelspec": {
   "display_name": "Python 3 (ipykernel)",
   "language": "python",
   "name": "python3"
  },
  "language_info": {
   "codemirror_mode": {
    "name": "ipython",
    "version": 3
   },
   "file_extension": ".py",
   "mimetype": "text/x-python",
   "name": "python",
   "nbconvert_exporter": "python",
   "pygments_lexer": "ipython3",
   "version": "3.11.3"
  }
 },
 "nbformat": 4,
 "nbformat_minor": 5
}
