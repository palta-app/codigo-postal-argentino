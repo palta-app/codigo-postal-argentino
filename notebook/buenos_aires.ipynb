{
 "cells": [
  {
   "cell_type": "code",
   "execution_count": 16,
   "id": "46747e65-64b1-46f7-8819-8e579350d952",
   "metadata": {
    "execution": {
     "iopub.execute_input": "2023-06-08T18:45:25.787399Z",
     "iopub.status.busy": "2023-06-08T18:45:25.785965Z",
     "iopub.status.idle": "2023-06-08T18:45:25.792418Z",
     "shell.execute_reply": "2023-06-08T18:45:25.791521Z",
     "shell.execute_reply.started": "2023-06-08T18:45:25.787314Z"
    }
   },
   "outputs": [],
   "source": [
    "import pandas as pd\n",
    "import requests\n",
    "from bs4 import BeautifulSoup\n",
    "import urllib.parse"
   ]
  },
  {
   "cell_type": "code",
   "execution_count": 57,
   "id": "0e1844d9-c8ca-48a5-b3d5-a78f78ffe5cb",
   "metadata": {
    "execution": {
     "iopub.execute_input": "2023-06-08T20:09:53.648192Z",
     "iopub.status.busy": "2023-06-08T20:09:53.646586Z",
     "iopub.status.idle": "2023-06-08T20:09:54.321537Z",
     "shell.execute_reply": "2023-06-08T20:09:54.320601Z",
     "shell.execute_reply.started": "2023-06-08T20:09:53.648131Z"
    }
   },
   "outputs": [],
   "source": [
    "base_url = \"https://codigo-postal.co/argentina/buenos-aires/\"\n",
    "response = requests.get(base_url)\n",
    "\n",
    "localidad_codificada = urllib.parse.quote(localidad)\n",
    "url_localidad = f\"{base_url}/{localidad_codificada}\"\n",
    "\n",
    "\n",
    "# Leer el archivo CSV de localidades\n",
    "df_localidades = pd.read_csv(\"localidades_buenos_aires.csv\")\n",
    "\n",
    "# Reemplazar espacios por guiones y convertir a minúsculas en cada localidad\n",
    "df_localidades[\"Localidad\"] = df_localidades[\"Localidad\"].str.replace(\" \", \"-\").str.lower()\n"
   ]
  },
  {
   "cell_type": "code",
   "execution_count": 18,
   "id": "65af51a1-4cab-485e-978e-2871854a751a",
   "metadata": {
    "execution": {
     "iopub.execute_input": "2023-06-08T18:47:42.319085Z",
     "iopub.status.busy": "2023-06-08T18:47:42.318396Z",
     "iopub.status.idle": "2023-06-08T18:47:42.432646Z",
     "shell.execute_reply": "2023-06-08T18:47:42.431758Z",
     "shell.execute_reply.started": "2023-06-08T18:47:42.319012Z"
    }
   },
   "outputs": [
    {
     "name": "stdout",
     "output_type": "stream",
     "text": [
      "Archivo CSV guardado exitosamente.\n"
     ]
    }
   ],
   "source": [
    "# Verificar el estado de la respuesta\n",
    "if response.status_code == 200:\n",
    "    # Parsear el contenido HTML con BeautifulSoup\n",
    "    soup = BeautifulSoup(response.content, \"html.parser\")\n",
    "    \n",
    "    # Encontrar la tabla que contiene las localidades de Córdoba\n",
    "    table = soup.find(\"ul\", class_=\"cities\")\n",
    "\n",
    "    # Encontrar todos los elementos <a> dentro del elemento <ul>\n",
    "    a_elements = table.find_all(\"a\")\n",
    "    \n",
    "    #  Obtener el texto de cada elemento <a>\n",
    "    localidades = [a.text for a in a_elements]\n",
    "    \n",
    "    # Crear un DataFrame con las localidades\n",
    "    df_localidades = pd.DataFrame({\"Localidad\": localidades})\n",
    "    \n",
    "    # Guardar el DataFrame en un archivo CSV\n",
    "    df_localidades.to_csv(\"localidades_buenos_aires.csv\", index=False)\n",
    "    \n",
    "    print(\"Archivo CSV guardado exitosamente.\")\n",
    "else:\n",
    "    print(\"Error al acceder a la página de Buenos Aires\")"
   ]
  },
  {
   "cell_type": "code",
   "execution_count": 28,
   "id": "8f6c470e-4b4e-4945-bf88-27a10d397d2b",
   "metadata": {
    "execution": {
     "iopub.execute_input": "2023-06-08T19:43:12.113828Z",
     "iopub.status.busy": "2023-06-08T19:43:12.111990Z",
     "iopub.status.idle": "2023-06-08T19:43:48.091525Z",
     "shell.execute_reply": "2023-06-08T19:43:48.090611Z",
     "shell.execute_reply.started": "2023-06-08T19:43:12.113759Z"
    }
   },
   "outputs": [
    {
     "ename": "TooManyRedirects",
     "evalue": "Exceeded 30 redirects.",
     "output_type": "error",
     "traceback": [
      "\u001b[0;31m---------------------------------------------------------------------------\u001b[0m",
      "\u001b[0;31mTooManyRedirects\u001b[0m                          Traceback (most recent call last)",
      "Cell \u001b[0;32mIn[28], line 11\u001b[0m\n\u001b[1;32m      9\u001b[0m \u001b[38;5;28;01mfor\u001b[39;00m localidad \u001b[38;5;129;01min\u001b[39;00m df_localidades[\u001b[38;5;124m\"\u001b[39m\u001b[38;5;124mLocalidad\u001b[39m\u001b[38;5;124m\"\u001b[39m]:\n\u001b[1;32m     10\u001b[0m     url_localidad \u001b[38;5;241m=\u001b[39m \u001b[38;5;124mf\u001b[39m\u001b[38;5;124m\"\u001b[39m\u001b[38;5;132;01m{\u001b[39;00mbase_url\u001b[38;5;132;01m}\u001b[39;00m\u001b[38;5;124m/\u001b[39m\u001b[38;5;132;01m{\u001b[39;00mlocalidad\u001b[38;5;132;01m}\u001b[39;00m\u001b[38;5;124m\"\u001b[39m\n\u001b[0;32m---> 11\u001b[0m     response \u001b[38;5;241m=\u001b[39m \u001b[43mrequests\u001b[49m\u001b[38;5;241;43m.\u001b[39;49m\u001b[43mget\u001b[49m\u001b[43m(\u001b[49m\u001b[43murl_localidad\u001b[49m\u001b[43m)\u001b[49m\n\u001b[1;32m     13\u001b[0m     \u001b[38;5;28;01mif\u001b[39;00m response\u001b[38;5;241m.\u001b[39mstatus_code \u001b[38;5;241m==\u001b[39m \u001b[38;5;241m200\u001b[39m:\n\u001b[1;32m     14\u001b[0m         soup \u001b[38;5;241m=\u001b[39m BeautifulSoup(response\u001b[38;5;241m.\u001b[39mcontent, \u001b[38;5;124m\"\u001b[39m\u001b[38;5;124mhtml.parser\u001b[39m\u001b[38;5;124m\"\u001b[39m)\n",
      "File \u001b[0;32m~/PycharmProjects/codigoPostalAregntino/venv/lib/python3.11/site-packages/requests/api.py:73\u001b[0m, in \u001b[0;36mget\u001b[0;34m(url, params, **kwargs)\u001b[0m\n\u001b[1;32m     62\u001b[0m \u001b[38;5;28;01mdef\u001b[39;00m \u001b[38;5;21mget\u001b[39m(url, params\u001b[38;5;241m=\u001b[39m\u001b[38;5;28;01mNone\u001b[39;00m, \u001b[38;5;241m*\u001b[39m\u001b[38;5;241m*\u001b[39mkwargs):\n\u001b[1;32m     63\u001b[0m \u001b[38;5;250m    \u001b[39m\u001b[38;5;124mr\u001b[39m\u001b[38;5;124;03m\"\"\"Sends a GET request.\u001b[39;00m\n\u001b[1;32m     64\u001b[0m \n\u001b[1;32m     65\u001b[0m \u001b[38;5;124;03m    :param url: URL for the new :class:`Request` object.\u001b[39;00m\n\u001b[0;32m   (...)\u001b[0m\n\u001b[1;32m     70\u001b[0m \u001b[38;5;124;03m    :rtype: requests.Response\u001b[39;00m\n\u001b[1;32m     71\u001b[0m \u001b[38;5;124;03m    \"\"\"\u001b[39;00m\n\u001b[0;32m---> 73\u001b[0m     \u001b[38;5;28;01mreturn\u001b[39;00m \u001b[43mrequest\u001b[49m\u001b[43m(\u001b[49m\u001b[38;5;124;43m\"\u001b[39;49m\u001b[38;5;124;43mget\u001b[39;49m\u001b[38;5;124;43m\"\u001b[39;49m\u001b[43m,\u001b[49m\u001b[43m \u001b[49m\u001b[43murl\u001b[49m\u001b[43m,\u001b[49m\u001b[43m \u001b[49m\u001b[43mparams\u001b[49m\u001b[38;5;241;43m=\u001b[39;49m\u001b[43mparams\u001b[49m\u001b[43m,\u001b[49m\u001b[43m \u001b[49m\u001b[38;5;241;43m*\u001b[39;49m\u001b[38;5;241;43m*\u001b[39;49m\u001b[43mkwargs\u001b[49m\u001b[43m)\u001b[49m\n",
      "File \u001b[0;32m~/PycharmProjects/codigoPostalAregntino/venv/lib/python3.11/site-packages/requests/api.py:59\u001b[0m, in \u001b[0;36mrequest\u001b[0;34m(method, url, **kwargs)\u001b[0m\n\u001b[1;32m     55\u001b[0m \u001b[38;5;66;03m# By using the 'with' statement we are sure the session is closed, thus we\u001b[39;00m\n\u001b[1;32m     56\u001b[0m \u001b[38;5;66;03m# avoid leaving sockets open which can trigger a ResourceWarning in some\u001b[39;00m\n\u001b[1;32m     57\u001b[0m \u001b[38;5;66;03m# cases, and look like a memory leak in others.\u001b[39;00m\n\u001b[1;32m     58\u001b[0m \u001b[38;5;28;01mwith\u001b[39;00m sessions\u001b[38;5;241m.\u001b[39mSession() \u001b[38;5;28;01mas\u001b[39;00m session:\n\u001b[0;32m---> 59\u001b[0m     \u001b[38;5;28;01mreturn\u001b[39;00m \u001b[43msession\u001b[49m\u001b[38;5;241;43m.\u001b[39;49m\u001b[43mrequest\u001b[49m\u001b[43m(\u001b[49m\u001b[43mmethod\u001b[49m\u001b[38;5;241;43m=\u001b[39;49m\u001b[43mmethod\u001b[49m\u001b[43m,\u001b[49m\u001b[43m \u001b[49m\u001b[43murl\u001b[49m\u001b[38;5;241;43m=\u001b[39;49m\u001b[43murl\u001b[49m\u001b[43m,\u001b[49m\u001b[43m \u001b[49m\u001b[38;5;241;43m*\u001b[39;49m\u001b[38;5;241;43m*\u001b[39;49m\u001b[43mkwargs\u001b[49m\u001b[43m)\u001b[49m\n",
      "File \u001b[0;32m~/PycharmProjects/codigoPostalAregntino/venv/lib/python3.11/site-packages/requests/sessions.py:589\u001b[0m, in \u001b[0;36mSession.request\u001b[0;34m(self, method, url, params, data, headers, cookies, files, auth, timeout, allow_redirects, proxies, hooks, stream, verify, cert, json)\u001b[0m\n\u001b[1;32m    584\u001b[0m send_kwargs \u001b[38;5;241m=\u001b[39m {\n\u001b[1;32m    585\u001b[0m     \u001b[38;5;124m\"\u001b[39m\u001b[38;5;124mtimeout\u001b[39m\u001b[38;5;124m\"\u001b[39m: timeout,\n\u001b[1;32m    586\u001b[0m     \u001b[38;5;124m\"\u001b[39m\u001b[38;5;124mallow_redirects\u001b[39m\u001b[38;5;124m\"\u001b[39m: allow_redirects,\n\u001b[1;32m    587\u001b[0m }\n\u001b[1;32m    588\u001b[0m send_kwargs\u001b[38;5;241m.\u001b[39mupdate(settings)\n\u001b[0;32m--> 589\u001b[0m resp \u001b[38;5;241m=\u001b[39m \u001b[38;5;28;43mself\u001b[39;49m\u001b[38;5;241;43m.\u001b[39;49m\u001b[43msend\u001b[49m\u001b[43m(\u001b[49m\u001b[43mprep\u001b[49m\u001b[43m,\u001b[49m\u001b[43m \u001b[49m\u001b[38;5;241;43m*\u001b[39;49m\u001b[38;5;241;43m*\u001b[39;49m\u001b[43msend_kwargs\u001b[49m\u001b[43m)\u001b[49m\n\u001b[1;32m    591\u001b[0m \u001b[38;5;28;01mreturn\u001b[39;00m resp\n",
      "File \u001b[0;32m~/PycharmProjects/codigoPostalAregntino/venv/lib/python3.11/site-packages/requests/sessions.py:725\u001b[0m, in \u001b[0;36mSession.send\u001b[0;34m(self, request, **kwargs)\u001b[0m\n\u001b[1;32m    722\u001b[0m \u001b[38;5;28;01mif\u001b[39;00m allow_redirects:\n\u001b[1;32m    723\u001b[0m     \u001b[38;5;66;03m# Redirect resolving generator.\u001b[39;00m\n\u001b[1;32m    724\u001b[0m     gen \u001b[38;5;241m=\u001b[39m \u001b[38;5;28mself\u001b[39m\u001b[38;5;241m.\u001b[39mresolve_redirects(r, request, \u001b[38;5;241m*\u001b[39m\u001b[38;5;241m*\u001b[39mkwargs)\n\u001b[0;32m--> 725\u001b[0m     history \u001b[38;5;241m=\u001b[39m \u001b[43m[\u001b[49m\u001b[43mresp\u001b[49m\u001b[43m \u001b[49m\u001b[38;5;28;43;01mfor\u001b[39;49;00m\u001b[43m \u001b[49m\u001b[43mresp\u001b[49m\u001b[43m \u001b[49m\u001b[38;5;129;43;01min\u001b[39;49;00m\u001b[43m \u001b[49m\u001b[43mgen\u001b[49m\u001b[43m]\u001b[49m\n\u001b[1;32m    726\u001b[0m \u001b[38;5;28;01melse\u001b[39;00m:\n\u001b[1;32m    727\u001b[0m     history \u001b[38;5;241m=\u001b[39m []\n",
      "File \u001b[0;32m~/PycharmProjects/codigoPostalAregntino/venv/lib/python3.11/site-packages/requests/sessions.py:725\u001b[0m, in \u001b[0;36m<listcomp>\u001b[0;34m(.0)\u001b[0m\n\u001b[1;32m    722\u001b[0m \u001b[38;5;28;01mif\u001b[39;00m allow_redirects:\n\u001b[1;32m    723\u001b[0m     \u001b[38;5;66;03m# Redirect resolving generator.\u001b[39;00m\n\u001b[1;32m    724\u001b[0m     gen \u001b[38;5;241m=\u001b[39m \u001b[38;5;28mself\u001b[39m\u001b[38;5;241m.\u001b[39mresolve_redirects(r, request, \u001b[38;5;241m*\u001b[39m\u001b[38;5;241m*\u001b[39mkwargs)\n\u001b[0;32m--> 725\u001b[0m     history \u001b[38;5;241m=\u001b[39m [resp \u001b[38;5;28;01mfor\u001b[39;00m resp \u001b[38;5;129;01min\u001b[39;00m gen]\n\u001b[1;32m    726\u001b[0m \u001b[38;5;28;01melse\u001b[39;00m:\n\u001b[1;32m    727\u001b[0m     history \u001b[38;5;241m=\u001b[39m []\n",
      "File \u001b[0;32m~/PycharmProjects/codigoPostalAregntino/venv/lib/python3.11/site-packages/requests/sessions.py:191\u001b[0m, in \u001b[0;36mSessionRedirectMixin.resolve_redirects\u001b[0;34m(self, resp, req, stream, timeout, verify, cert, proxies, yield_requests, **adapter_kwargs)\u001b[0m\n\u001b[1;32m    188\u001b[0m     resp\u001b[38;5;241m.\u001b[39mraw\u001b[38;5;241m.\u001b[39mread(decode_content\u001b[38;5;241m=\u001b[39m\u001b[38;5;28;01mFalse\u001b[39;00m)\n\u001b[1;32m    190\u001b[0m \u001b[38;5;28;01mif\u001b[39;00m \u001b[38;5;28mlen\u001b[39m(resp\u001b[38;5;241m.\u001b[39mhistory) \u001b[38;5;241m>\u001b[39m\u001b[38;5;241m=\u001b[39m \u001b[38;5;28mself\u001b[39m\u001b[38;5;241m.\u001b[39mmax_redirects:\n\u001b[0;32m--> 191\u001b[0m     \u001b[38;5;28;01mraise\u001b[39;00m TooManyRedirects(\n\u001b[1;32m    192\u001b[0m         \u001b[38;5;124mf\u001b[39m\u001b[38;5;124m\"\u001b[39m\u001b[38;5;124mExceeded \u001b[39m\u001b[38;5;132;01m{\u001b[39;00m\u001b[38;5;28mself\u001b[39m\u001b[38;5;241m.\u001b[39mmax_redirects\u001b[38;5;132;01m}\u001b[39;00m\u001b[38;5;124m redirects.\u001b[39m\u001b[38;5;124m\"\u001b[39m, response\u001b[38;5;241m=\u001b[39mresp\n\u001b[1;32m    193\u001b[0m     )\n\u001b[1;32m    195\u001b[0m \u001b[38;5;66;03m# Release the connection back into the pool.\u001b[39;00m\n\u001b[1;32m    196\u001b[0m resp\u001b[38;5;241m.\u001b[39mclose()\n",
      "\u001b[0;31mTooManyRedirects\u001b[0m: Exceeded 30 redirects."
     ]
    }
   ],
   "source": [
    "df_localidades = pd.read_csv(\"localidades_buenos_aires.csv\")\n",
    "\n",
    "# Reemplazar espacios por guiones y convertir a minúsculas en cada localidad\n",
    "df_localidades[\"Localidad\"] = df_localidades[\"Localidad\"].str.replace(\" \", \"-\").str.lower()\n",
    "\n",
    "# Crear una lista para almacenar los datos de los CPAs\n",
    "data = []\n",
    "\n",
    "for localidad in df_localidades[\"Localidad\"]:\n",
    "    url_localidad = f\"{base_url}/{localidad}\"\n",
    "    response = requests.get(url_localidad)\n",
    "    \n",
    "    if response.status_code == 200:\n",
    "        soup = BeautifulSoup(response.content, \"html.parser\")\n",
    "        \n",
    "        # Obtener los textos de los elementos <a>\n",
    "        a_texts = []\n",
    "        tbody = soup.find(\"tbody\")\n",
    "        \n",
    "        if tbody:\n",
    "            rows = tbody.find_all(\"tr\")\n",
    "            \n",
    "            for row in rows:\n",
    "                cells = row.find_all(\"td\")\n",
    "                \n",
    "                for cell in cells:\n",
    "                    a_elements = cell.find_all(\"a\")\n",
    "                    \n",
    "                    for a in a_elements:\n",
    "                        a_texts.append(a.text)\n",
    "        \n",
    "        # Agregar los datos a la lista\n",
    "        data.append({\"Localidad\": localidad, \"CPAs\": a_texts})\n",
    "        \n",
    "    else:\n",
    "        print(f\"Error al acceder a la página de {localidad}\")\n",
    "\n",
    "# Crear un DataFrame a partir de los datos recolectados\n",
    "df_resultado = pd.DataFrame(data)\n",
    "\n",
    "# Guardar el DataFrame en un archivo CSV\n",
    "df_resultado.to_csv(\"buenos_aires_cpa.csv\", index=False)\n",
    "print(\"Archivo CSV guardado exitosamente.\")"
   ]
  },
  {
   "cell_type": "code",
   "execution_count": 30,
   "id": "685e643e-85e4-45e5-bfd7-45e7f67c1ea7",
   "metadata": {
    "execution": {
     "iopub.execute_input": "2023-06-08T19:47:58.555998Z",
     "iopub.status.busy": "2023-06-08T19:47:58.554330Z",
     "iopub.status.idle": "2023-06-08T19:48:00.552251Z",
     "shell.execute_reply": "2023-06-08T19:48:00.550477Z",
     "shell.execute_reply.started": "2023-06-08T19:47:58.555918Z"
    }
   },
   "outputs": [
    {
     "name": "stdout",
     "output_type": "stream",
     "text": [
      "Collecting httplib2\n",
      "  Downloading httplib2-0.22.0-py3-none-any.whl (96 kB)\n",
      "\u001b[2K     \u001b[90m━━━━━━━━━━━━━━━━━━━━━━━━━━━━━━━━━━━━━━━━\u001b[0m \u001b[32m96.9/96.9 kB\u001b[0m \u001b[31m2.0 MB/s\u001b[0m eta \u001b[36m0:00:00\u001b[0ma \u001b[36m0:00:01\u001b[0m\n",
      "\u001b[?25hCollecting pyparsing!=3.0.0,!=3.0.1,!=3.0.2,!=3.0.3,<4,>=2.4.2 (from httplib2)\n",
      "  Using cached pyparsing-3.0.9-py3-none-any.whl (98 kB)\n",
      "Installing collected packages: pyparsing, httplib2\n",
      "Successfully installed httplib2-0.22.0 pyparsing-3.0.9\n"
     ]
    }
   ],
   "source": [
    "!pip install httplib2"
   ]
  },
  {
   "cell_type": "code",
   "execution_count": 60,
   "id": "dec910c9-92f0-41ee-ba0a-6619690389a1",
   "metadata": {
    "execution": {
     "iopub.execute_input": "2023-06-08T21:08:41.028256Z",
     "iopub.status.busy": "2023-06-08T21:08:41.027545Z",
     "iopub.status.idle": "2023-06-08T21:08:49.833384Z",
     "shell.execute_reply": "2023-06-08T21:08:49.832560Z",
     "shell.execute_reply.started": "2023-06-08T21:08:41.028186Z"
    }
   },
   "outputs": [
    {
     "name": "stdout",
     "output_type": "stream",
     "text": [
      "[{'Localidad': '1-de-mayo', 'CPAs': []}]\n",
      "[{'Localidad': '1-de-mayo', 'CPAs': []}, {'Localidad': '11-de-septiembre-de-1888', 'CPAs': []}]\n",
      "['Buscar CPA']\n",
      "['Buscar CPA', 'B6501XAC']\n",
      "['Buscar CPA', 'B6501XAC', 'B6501XAA']\n",
      "['Buscar CPA', 'B6501XAC', 'B6501XAA', 'B6501XAB']\n",
      "['Buscar CPA', 'B6501XAC', 'B6501XAA', 'B6501XAB', 'B6501XAD']\n",
      "['Buscar CPA', 'B6501XAC', 'B6501XAA', 'B6501XAB', 'B6501XAD', 'B6501XAE']\n",
      "[{'Localidad': '1-de-mayo', 'CPAs': []}, {'Localidad': '11-de-septiembre-de-1888', 'CPAs': []}, {'Localidad': '12-de-octubre', 'CPAs': ['Buscar CPA', 'B6501XAC', 'B6501XAA', 'B6501XAB', 'B6501XAD', 'B6501XAE']}]\n",
      "[{'Localidad': '1-de-mayo', 'CPAs': []}, {'Localidad': '11-de-septiembre-de-1888', 'CPAs': []}, {'Localidad': '12-de-octubre', 'CPAs': ['Buscar CPA', 'B6501XAC', 'B6501XAA', 'B6501XAB', 'B6501XAD', 'B6501XAE']}, {'Localidad': '14-de-julio', 'CPAs': []}]\n",
      "[{'Localidad': '1-de-mayo', 'CPAs': []}, {'Localidad': '11-de-septiembre-de-1888', 'CPAs': []}, {'Localidad': '12-de-octubre', 'CPAs': ['Buscar CPA', 'B6501XAC', 'B6501XAA', 'B6501XAB', 'B6501XAD', 'B6501XAE']}, {'Localidad': '14-de-julio', 'CPAs': []}, {'Localidad': '15-de-noviembre-1889', 'CPAs': []}]\n",
      "[{'Localidad': '1-de-mayo', 'CPAs': []}, {'Localidad': '11-de-septiembre-de-1888', 'CPAs': []}, {'Localidad': '12-de-octubre', 'CPAs': ['Buscar CPA', 'B6501XAC', 'B6501XAA', 'B6501XAB', 'B6501XAD', 'B6501XAE']}, {'Localidad': '14-de-julio', 'CPAs': []}, {'Localidad': '15-de-noviembre-1889', 'CPAs': []}, {'Localidad': '2-de-abril', 'CPAs': []}]\n",
      "[{'Localidad': '1-de-mayo', 'CPAs': []}, {'Localidad': '11-de-septiembre-de-1888', 'CPAs': []}, {'Localidad': '12-de-octubre', 'CPAs': ['Buscar CPA', 'B6501XAC', 'B6501XAA', 'B6501XAB', 'B6501XAD', 'B6501XAE']}, {'Localidad': '14-de-julio', 'CPAs': []}, {'Localidad': '15-de-noviembre-1889', 'CPAs': []}, {'Localidad': '2-de-abril', 'CPAs': []}, {'Localidad': '2-de-abril-de-1982', 'CPAs': []}]\n",
      "[{'Localidad': '1-de-mayo', 'CPAs': []}, {'Localidad': '11-de-septiembre-de-1888', 'CPAs': []}, {'Localidad': '12-de-octubre', 'CPAs': ['Buscar CPA', 'B6501XAC', 'B6501XAA', 'B6501XAB', 'B6501XAD', 'B6501XAE']}, {'Localidad': '14-de-julio', 'CPAs': []}, {'Localidad': '15-de-noviembre-1889', 'CPAs': []}, {'Localidad': '2-de-abril', 'CPAs': []}, {'Localidad': '2-de-abril-de-1982', 'CPAs': []}, {'Localidad': '20-de-febrero', 'CPAs': []}]\n",
      "[{'Localidad': '1-de-mayo', 'CPAs': []}, {'Localidad': '11-de-septiembre-de-1888', 'CPAs': []}, {'Localidad': '12-de-octubre', 'CPAs': ['Buscar CPA', 'B6501XAC', 'B6501XAA', 'B6501XAB', 'B6501XAD', 'B6501XAE']}, {'Localidad': '14-de-julio', 'CPAs': []}, {'Localidad': '15-de-noviembre-1889', 'CPAs': []}, {'Localidad': '2-de-abril', 'CPAs': []}, {'Localidad': '2-de-abril-de-1982', 'CPAs': []}, {'Localidad': '20-de-febrero', 'CPAs': []}, {'Localidad': '20-de-septiembre', 'CPAs': []}]\n",
      "[{'Localidad': '1-de-mayo', 'CPAs': []}, {'Localidad': '11-de-septiembre-de-1888', 'CPAs': []}, {'Localidad': '12-de-octubre', 'CPAs': ['Buscar CPA', 'B6501XAC', 'B6501XAA', 'B6501XAB', 'B6501XAD', 'B6501XAE']}, {'Localidad': '14-de-julio', 'CPAs': []}, {'Localidad': '15-de-noviembre-1889', 'CPAs': []}, {'Localidad': '2-de-abril', 'CPAs': []}, {'Localidad': '2-de-abril-de-1982', 'CPAs': []}, {'Localidad': '20-de-febrero', 'CPAs': []}, {'Localidad': '20-de-septiembre', 'CPAs': []}, {'Localidad': '24-de-noviembre', 'CPAs': []}]\n",
      "['Buscar CPA']\n",
      "['Buscar CPA', 'B6015XAE']\n",
      "['Buscar CPA', 'B6015XAE', 'B6660XAD']\n",
      "['Buscar CPA', 'B6015XAE', 'B6660XAD', 'B6660XAA']\n",
      "['Buscar CPA', 'B6015XAE', 'B6660XAD', 'B6660XAA', 'B6660XAB']\n",
      "[{'Localidad': '1-de-mayo', 'CPAs': []}, {'Localidad': '11-de-septiembre-de-1888', 'CPAs': []}, {'Localidad': '12-de-octubre', 'CPAs': ['Buscar CPA', 'B6501XAC', 'B6501XAA', 'B6501XAB', 'B6501XAD', 'B6501XAE']}, {'Localidad': '14-de-julio', 'CPAs': []}, {'Localidad': '15-de-noviembre-1889', 'CPAs': []}, {'Localidad': '2-de-abril', 'CPAs': []}, {'Localidad': '2-de-abril-de-1982', 'CPAs': []}, {'Localidad': '20-de-febrero', 'CPAs': []}, {'Localidad': '20-de-septiembre', 'CPAs': []}, {'Localidad': '24-de-noviembre', 'CPAs': []}, {'Localidad': '25-de-mayo', 'CPAs': ['Buscar CPA', 'B6015XAE', 'B6660XAD', 'B6660XAA', 'B6660XAB']}]\n",
      "[{'Localidad': '1-de-mayo', 'CPAs': []}, {'Localidad': '11-de-septiembre-de-1888', 'CPAs': []}, {'Localidad': '12-de-octubre', 'CPAs': ['Buscar CPA', 'B6501XAC', 'B6501XAA', 'B6501XAB', 'B6501XAD', 'B6501XAE']}, {'Localidad': '14-de-julio', 'CPAs': []}, {'Localidad': '15-de-noviembre-1889', 'CPAs': []}, {'Localidad': '2-de-abril', 'CPAs': []}, {'Localidad': '2-de-abril-de-1982', 'CPAs': []}, {'Localidad': '20-de-febrero', 'CPAs': []}, {'Localidad': '20-de-septiembre', 'CPAs': []}, {'Localidad': '24-de-noviembre', 'CPAs': []}, {'Localidad': '25-de-mayo', 'CPAs': ['Buscar CPA', 'B6015XAE', 'B6660XAD', 'B6660XAA', 'B6660XAB']}, {'Localidad': '27-de-febrero', 'CPAs': []}]\n",
      "[{'Localidad': '1-de-mayo', 'CPAs': []}, {'Localidad': '11-de-septiembre-de-1888', 'CPAs': []}, {'Localidad': '12-de-octubre', 'CPAs': ['Buscar CPA', 'B6501XAC', 'B6501XAA', 'B6501XAB', 'B6501XAD', 'B6501XAE']}, {'Localidad': '14-de-julio', 'CPAs': []}, {'Localidad': '15-de-noviembre-1889', 'CPAs': []}, {'Localidad': '2-de-abril', 'CPAs': []}, {'Localidad': '2-de-abril-de-1982', 'CPAs': []}, {'Localidad': '20-de-febrero', 'CPAs': []}, {'Localidad': '20-de-septiembre', 'CPAs': []}, {'Localidad': '24-de-noviembre', 'CPAs': []}, {'Localidad': '25-de-mayo', 'CPAs': ['Buscar CPA', 'B6015XAE', 'B6660XAD', 'B6660XAA', 'B6660XAB']}, {'Localidad': '27-de-febrero', 'CPAs': []}, {'Localidad': '3-de-febrero', 'CPAs': []}]\n"
     ]
    },
    {
     "ename": "KeyboardInterrupt",
     "evalue": "",
     "output_type": "error",
     "traceback": [
      "\u001b[0;31m---------------------------------------------------------------------------\u001b[0m",
      "\u001b[0;31mKeyboardInterrupt\u001b[0m                         Traceback (most recent call last)",
      "Cell \u001b[0;32mIn[60], line 28\u001b[0m\n\u001b[1;32m     24\u001b[0m url_localidad \u001b[38;5;241m=\u001b[39m \u001b[38;5;124mf\u001b[39m\u001b[38;5;124m\"\u001b[39m\u001b[38;5;132;01m{\u001b[39;00mbase_url\u001b[38;5;132;01m}\u001b[39;00m\u001b[38;5;124m/\u001b[39m\u001b[38;5;132;01m{\u001b[39;00mlocalidad_codificada\u001b[38;5;132;01m}\u001b[39;00m\u001b[38;5;124m\"\u001b[39m\n\u001b[1;32m     26\u001b[0m \u001b[38;5;28;01mtry\u001b[39;00m:\n\u001b[1;32m     27\u001b[0m     \u001b[38;5;66;03m# Realizar solicitud GET sin redireccionamiento automático\u001b[39;00m\n\u001b[0;32m---> 28\u001b[0m     response \u001b[38;5;241m=\u001b[39m \u001b[43ms\u001b[49m\u001b[38;5;241;43m.\u001b[39;49m\u001b[43mget\u001b[49m\u001b[43m(\u001b[49m\u001b[43murl_localidad\u001b[49m\u001b[43m,\u001b[49m\u001b[43m \u001b[49m\u001b[43mallow_redirects\u001b[49m\u001b[38;5;241;43m=\u001b[39;49m\u001b[38;5;28;43;01mTrue\u001b[39;49;00m\u001b[43m)\u001b[49m\n\u001b[1;32m     30\u001b[0m     response\u001b[38;5;241m.\u001b[39mraise_for_status()  \u001b[38;5;66;03m# Esta línea lanzará una excepción si la solicitud falla\u001b[39;00m\n\u001b[1;32m     32\u001b[0m     soup \u001b[38;5;241m=\u001b[39m BeautifulSoup(response\u001b[38;5;241m.\u001b[39mcontent, \u001b[38;5;124m\"\u001b[39m\u001b[38;5;124mhtml.parser\u001b[39m\u001b[38;5;124m\"\u001b[39m)\n",
      "File \u001b[0;32m~/PycharmProjects/codigoPostalAregntino/venv/lib/python3.11/site-packages/requests/sessions.py:602\u001b[0m, in \u001b[0;36mSession.get\u001b[0;34m(self, url, **kwargs)\u001b[0m\n\u001b[1;32m    594\u001b[0m \u001b[38;5;250m\u001b[39m\u001b[38;5;124mr\u001b[39m\u001b[38;5;124;03m\"\"\"Sends a GET request. Returns :class:`Response` object.\u001b[39;00m\n\u001b[1;32m    595\u001b[0m \n\u001b[1;32m    596\u001b[0m \u001b[38;5;124;03m:param url: URL for the new :class:`Request` object.\u001b[39;00m\n\u001b[1;32m    597\u001b[0m \u001b[38;5;124;03m:param \\*\\*kwargs: Optional arguments that ``request`` takes.\u001b[39;00m\n\u001b[1;32m    598\u001b[0m \u001b[38;5;124;03m:rtype: requests.Response\u001b[39;00m\n\u001b[1;32m    599\u001b[0m \u001b[38;5;124;03m\"\"\"\u001b[39;00m\n\u001b[1;32m    601\u001b[0m kwargs\u001b[38;5;241m.\u001b[39msetdefault(\u001b[38;5;124m\"\u001b[39m\u001b[38;5;124mallow_redirects\u001b[39m\u001b[38;5;124m\"\u001b[39m, \u001b[38;5;28;01mTrue\u001b[39;00m)\n\u001b[0;32m--> 602\u001b[0m \u001b[38;5;28;01mreturn\u001b[39;00m \u001b[38;5;28;43mself\u001b[39;49m\u001b[38;5;241;43m.\u001b[39;49m\u001b[43mrequest\u001b[49m\u001b[43m(\u001b[49m\u001b[38;5;124;43m\"\u001b[39;49m\u001b[38;5;124;43mGET\u001b[39;49m\u001b[38;5;124;43m\"\u001b[39;49m\u001b[43m,\u001b[49m\u001b[43m \u001b[49m\u001b[43murl\u001b[49m\u001b[43m,\u001b[49m\u001b[43m \u001b[49m\u001b[38;5;241;43m*\u001b[39;49m\u001b[38;5;241;43m*\u001b[39;49m\u001b[43mkwargs\u001b[49m\u001b[43m)\u001b[49m\n",
      "File \u001b[0;32m~/PycharmProjects/codigoPostalAregntino/venv/lib/python3.11/site-packages/requests/sessions.py:589\u001b[0m, in \u001b[0;36mSession.request\u001b[0;34m(self, method, url, params, data, headers, cookies, files, auth, timeout, allow_redirects, proxies, hooks, stream, verify, cert, json)\u001b[0m\n\u001b[1;32m    584\u001b[0m send_kwargs \u001b[38;5;241m=\u001b[39m {\n\u001b[1;32m    585\u001b[0m     \u001b[38;5;124m\"\u001b[39m\u001b[38;5;124mtimeout\u001b[39m\u001b[38;5;124m\"\u001b[39m: timeout,\n\u001b[1;32m    586\u001b[0m     \u001b[38;5;124m\"\u001b[39m\u001b[38;5;124mallow_redirects\u001b[39m\u001b[38;5;124m\"\u001b[39m: allow_redirects,\n\u001b[1;32m    587\u001b[0m }\n\u001b[1;32m    588\u001b[0m send_kwargs\u001b[38;5;241m.\u001b[39mupdate(settings)\n\u001b[0;32m--> 589\u001b[0m resp \u001b[38;5;241m=\u001b[39m \u001b[38;5;28;43mself\u001b[39;49m\u001b[38;5;241;43m.\u001b[39;49m\u001b[43msend\u001b[49m\u001b[43m(\u001b[49m\u001b[43mprep\u001b[49m\u001b[43m,\u001b[49m\u001b[43m \u001b[49m\u001b[38;5;241;43m*\u001b[39;49m\u001b[38;5;241;43m*\u001b[39;49m\u001b[43msend_kwargs\u001b[49m\u001b[43m)\u001b[49m\n\u001b[1;32m    591\u001b[0m \u001b[38;5;28;01mreturn\u001b[39;00m resp\n",
      "File \u001b[0;32m~/PycharmProjects/codigoPostalAregntino/venv/lib/python3.11/site-packages/requests/sessions.py:703\u001b[0m, in \u001b[0;36mSession.send\u001b[0;34m(self, request, **kwargs)\u001b[0m\n\u001b[1;32m    700\u001b[0m start \u001b[38;5;241m=\u001b[39m preferred_clock()\n\u001b[1;32m    702\u001b[0m \u001b[38;5;66;03m# Send the request\u001b[39;00m\n\u001b[0;32m--> 703\u001b[0m r \u001b[38;5;241m=\u001b[39m \u001b[43madapter\u001b[49m\u001b[38;5;241;43m.\u001b[39;49m\u001b[43msend\u001b[49m\u001b[43m(\u001b[49m\u001b[43mrequest\u001b[49m\u001b[43m,\u001b[49m\u001b[43m \u001b[49m\u001b[38;5;241;43m*\u001b[39;49m\u001b[38;5;241;43m*\u001b[39;49m\u001b[43mkwargs\u001b[49m\u001b[43m)\u001b[49m\n\u001b[1;32m    705\u001b[0m \u001b[38;5;66;03m# Total elapsed time of the request (approximately)\u001b[39;00m\n\u001b[1;32m    706\u001b[0m elapsed \u001b[38;5;241m=\u001b[39m preferred_clock() \u001b[38;5;241m-\u001b[39m start\n",
      "File \u001b[0;32m~/PycharmProjects/codigoPostalAregntino/venv/lib/python3.11/site-packages/requests/adapters.py:486\u001b[0m, in \u001b[0;36mHTTPAdapter.send\u001b[0;34m(self, request, stream, timeout, verify, cert, proxies)\u001b[0m\n\u001b[1;32m    483\u001b[0m     timeout \u001b[38;5;241m=\u001b[39m TimeoutSauce(connect\u001b[38;5;241m=\u001b[39mtimeout, read\u001b[38;5;241m=\u001b[39mtimeout)\n\u001b[1;32m    485\u001b[0m \u001b[38;5;28;01mtry\u001b[39;00m:\n\u001b[0;32m--> 486\u001b[0m     resp \u001b[38;5;241m=\u001b[39m \u001b[43mconn\u001b[49m\u001b[38;5;241;43m.\u001b[39;49m\u001b[43murlopen\u001b[49m\u001b[43m(\u001b[49m\n\u001b[1;32m    487\u001b[0m \u001b[43m        \u001b[49m\u001b[43mmethod\u001b[49m\u001b[38;5;241;43m=\u001b[39;49m\u001b[43mrequest\u001b[49m\u001b[38;5;241;43m.\u001b[39;49m\u001b[43mmethod\u001b[49m\u001b[43m,\u001b[49m\n\u001b[1;32m    488\u001b[0m \u001b[43m        \u001b[49m\u001b[43murl\u001b[49m\u001b[38;5;241;43m=\u001b[39;49m\u001b[43murl\u001b[49m\u001b[43m,\u001b[49m\n\u001b[1;32m    489\u001b[0m \u001b[43m        \u001b[49m\u001b[43mbody\u001b[49m\u001b[38;5;241;43m=\u001b[39;49m\u001b[43mrequest\u001b[49m\u001b[38;5;241;43m.\u001b[39;49m\u001b[43mbody\u001b[49m\u001b[43m,\u001b[49m\n\u001b[1;32m    490\u001b[0m \u001b[43m        \u001b[49m\u001b[43mheaders\u001b[49m\u001b[38;5;241;43m=\u001b[39;49m\u001b[43mrequest\u001b[49m\u001b[38;5;241;43m.\u001b[39;49m\u001b[43mheaders\u001b[49m\u001b[43m,\u001b[49m\n\u001b[1;32m    491\u001b[0m \u001b[43m        \u001b[49m\u001b[43mredirect\u001b[49m\u001b[38;5;241;43m=\u001b[39;49m\u001b[38;5;28;43;01mFalse\u001b[39;49;00m\u001b[43m,\u001b[49m\n\u001b[1;32m    492\u001b[0m \u001b[43m        \u001b[49m\u001b[43massert_same_host\u001b[49m\u001b[38;5;241;43m=\u001b[39;49m\u001b[38;5;28;43;01mFalse\u001b[39;49;00m\u001b[43m,\u001b[49m\n\u001b[1;32m    493\u001b[0m \u001b[43m        \u001b[49m\u001b[43mpreload_content\u001b[49m\u001b[38;5;241;43m=\u001b[39;49m\u001b[38;5;28;43;01mFalse\u001b[39;49;00m\u001b[43m,\u001b[49m\n\u001b[1;32m    494\u001b[0m \u001b[43m        \u001b[49m\u001b[43mdecode_content\u001b[49m\u001b[38;5;241;43m=\u001b[39;49m\u001b[38;5;28;43;01mFalse\u001b[39;49;00m\u001b[43m,\u001b[49m\n\u001b[1;32m    495\u001b[0m \u001b[43m        \u001b[49m\u001b[43mretries\u001b[49m\u001b[38;5;241;43m=\u001b[39;49m\u001b[38;5;28;43mself\u001b[39;49m\u001b[38;5;241;43m.\u001b[39;49m\u001b[43mmax_retries\u001b[49m\u001b[43m,\u001b[49m\n\u001b[1;32m    496\u001b[0m \u001b[43m        \u001b[49m\u001b[43mtimeout\u001b[49m\u001b[38;5;241;43m=\u001b[39;49m\u001b[43mtimeout\u001b[49m\u001b[43m,\u001b[49m\n\u001b[1;32m    497\u001b[0m \u001b[43m        \u001b[49m\u001b[43mchunked\u001b[49m\u001b[38;5;241;43m=\u001b[39;49m\u001b[43mchunked\u001b[49m\u001b[43m,\u001b[49m\n\u001b[1;32m    498\u001b[0m \u001b[43m    \u001b[49m\u001b[43m)\u001b[49m\n\u001b[1;32m    500\u001b[0m \u001b[38;5;28;01mexcept\u001b[39;00m (ProtocolError, \u001b[38;5;167;01mOSError\u001b[39;00m) \u001b[38;5;28;01mas\u001b[39;00m err:\n\u001b[1;32m    501\u001b[0m     \u001b[38;5;28;01mraise\u001b[39;00m \u001b[38;5;167;01mConnectionError\u001b[39;00m(err, request\u001b[38;5;241m=\u001b[39mrequest)\n",
      "File \u001b[0;32m~/PycharmProjects/codigoPostalAregntino/venv/lib/python3.11/site-packages/urllib3/connectionpool.py:790\u001b[0m, in \u001b[0;36mHTTPConnectionPool.urlopen\u001b[0;34m(self, method, url, body, headers, retries, redirect, assert_same_host, timeout, pool_timeout, release_conn, chunked, body_pos, preload_content, decode_content, **response_kw)\u001b[0m\n\u001b[1;32m    787\u001b[0m response_conn \u001b[38;5;241m=\u001b[39m conn \u001b[38;5;28;01mif\u001b[39;00m \u001b[38;5;129;01mnot\u001b[39;00m release_conn \u001b[38;5;28;01melse\u001b[39;00m \u001b[38;5;28;01mNone\u001b[39;00m\n\u001b[1;32m    789\u001b[0m \u001b[38;5;66;03m# Make the request on the HTTPConnection object\u001b[39;00m\n\u001b[0;32m--> 790\u001b[0m response \u001b[38;5;241m=\u001b[39m \u001b[38;5;28;43mself\u001b[39;49m\u001b[38;5;241;43m.\u001b[39;49m\u001b[43m_make_request\u001b[49m\u001b[43m(\u001b[49m\n\u001b[1;32m    791\u001b[0m \u001b[43m    \u001b[49m\u001b[43mconn\u001b[49m\u001b[43m,\u001b[49m\n\u001b[1;32m    792\u001b[0m \u001b[43m    \u001b[49m\u001b[43mmethod\u001b[49m\u001b[43m,\u001b[49m\n\u001b[1;32m    793\u001b[0m \u001b[43m    \u001b[49m\u001b[43murl\u001b[49m\u001b[43m,\u001b[49m\n\u001b[1;32m    794\u001b[0m \u001b[43m    \u001b[49m\u001b[43mtimeout\u001b[49m\u001b[38;5;241;43m=\u001b[39;49m\u001b[43mtimeout_obj\u001b[49m\u001b[43m,\u001b[49m\n\u001b[1;32m    795\u001b[0m \u001b[43m    \u001b[49m\u001b[43mbody\u001b[49m\u001b[38;5;241;43m=\u001b[39;49m\u001b[43mbody\u001b[49m\u001b[43m,\u001b[49m\n\u001b[1;32m    796\u001b[0m \u001b[43m    \u001b[49m\u001b[43mheaders\u001b[49m\u001b[38;5;241;43m=\u001b[39;49m\u001b[43mheaders\u001b[49m\u001b[43m,\u001b[49m\n\u001b[1;32m    797\u001b[0m \u001b[43m    \u001b[49m\u001b[43mchunked\u001b[49m\u001b[38;5;241;43m=\u001b[39;49m\u001b[43mchunked\u001b[49m\u001b[43m,\u001b[49m\n\u001b[1;32m    798\u001b[0m \u001b[43m    \u001b[49m\u001b[43mretries\u001b[49m\u001b[38;5;241;43m=\u001b[39;49m\u001b[43mretries\u001b[49m\u001b[43m,\u001b[49m\n\u001b[1;32m    799\u001b[0m \u001b[43m    \u001b[49m\u001b[43mresponse_conn\u001b[49m\u001b[38;5;241;43m=\u001b[39;49m\u001b[43mresponse_conn\u001b[49m\u001b[43m,\u001b[49m\n\u001b[1;32m    800\u001b[0m \u001b[43m    \u001b[49m\u001b[43mpreload_content\u001b[49m\u001b[38;5;241;43m=\u001b[39;49m\u001b[43mpreload_content\u001b[49m\u001b[43m,\u001b[49m\n\u001b[1;32m    801\u001b[0m \u001b[43m    \u001b[49m\u001b[43mdecode_content\u001b[49m\u001b[38;5;241;43m=\u001b[39;49m\u001b[43mdecode_content\u001b[49m\u001b[43m,\u001b[49m\n\u001b[1;32m    802\u001b[0m \u001b[43m    \u001b[49m\u001b[38;5;241;43m*\u001b[39;49m\u001b[38;5;241;43m*\u001b[39;49m\u001b[43mresponse_kw\u001b[49m\u001b[43m,\u001b[49m\n\u001b[1;32m    803\u001b[0m \u001b[43m\u001b[49m\u001b[43m)\u001b[49m\n\u001b[1;32m    805\u001b[0m \u001b[38;5;66;03m# Everything went great!\u001b[39;00m\n\u001b[1;32m    806\u001b[0m clean_exit \u001b[38;5;241m=\u001b[39m \u001b[38;5;28;01mTrue\u001b[39;00m\n",
      "File \u001b[0;32m~/PycharmProjects/codigoPostalAregntino/venv/lib/python3.11/site-packages/urllib3/connectionpool.py:536\u001b[0m, in \u001b[0;36mHTTPConnectionPool._make_request\u001b[0;34m(self, conn, method, url, body, headers, retries, timeout, chunked, response_conn, preload_content, decode_content, enforce_content_length)\u001b[0m\n\u001b[1;32m    534\u001b[0m \u001b[38;5;66;03m# Receive the response from the server\u001b[39;00m\n\u001b[1;32m    535\u001b[0m \u001b[38;5;28;01mtry\u001b[39;00m:\n\u001b[0;32m--> 536\u001b[0m     response \u001b[38;5;241m=\u001b[39m \u001b[43mconn\u001b[49m\u001b[38;5;241;43m.\u001b[39;49m\u001b[43mgetresponse\u001b[49m\u001b[43m(\u001b[49m\u001b[43m)\u001b[49m\n\u001b[1;32m    537\u001b[0m \u001b[38;5;28;01mexcept\u001b[39;00m (BaseSSLError, \u001b[38;5;167;01mOSError\u001b[39;00m) \u001b[38;5;28;01mas\u001b[39;00m e:\n\u001b[1;32m    538\u001b[0m     \u001b[38;5;28mself\u001b[39m\u001b[38;5;241m.\u001b[39m_raise_timeout(err\u001b[38;5;241m=\u001b[39me, url\u001b[38;5;241m=\u001b[39murl, timeout_value\u001b[38;5;241m=\u001b[39mread_timeout)\n",
      "File \u001b[0;32m~/PycharmProjects/codigoPostalAregntino/venv/lib/python3.11/site-packages/urllib3/connection.py:454\u001b[0m, in \u001b[0;36mHTTPConnection.getresponse\u001b[0;34m(self)\u001b[0m\n\u001b[1;32m    451\u001b[0m \u001b[38;5;28;01mfrom\u001b[39;00m \u001b[38;5;21;01m.\u001b[39;00m\u001b[38;5;21;01mresponse\u001b[39;00m \u001b[38;5;28;01mimport\u001b[39;00m HTTPResponse\n\u001b[1;32m    453\u001b[0m \u001b[38;5;66;03m# Get the response from http.client.HTTPConnection\u001b[39;00m\n\u001b[0;32m--> 454\u001b[0m httplib_response \u001b[38;5;241m=\u001b[39m \u001b[38;5;28;43msuper\u001b[39;49m\u001b[43m(\u001b[49m\u001b[43m)\u001b[49m\u001b[38;5;241;43m.\u001b[39;49m\u001b[43mgetresponse\u001b[49m\u001b[43m(\u001b[49m\u001b[43m)\u001b[49m\n\u001b[1;32m    456\u001b[0m \u001b[38;5;28;01mtry\u001b[39;00m:\n\u001b[1;32m    457\u001b[0m     assert_header_parsing(httplib_response\u001b[38;5;241m.\u001b[39mmsg)\n",
      "File \u001b[0;32m/usr/lib/python3.11/http/client.py:1375\u001b[0m, in \u001b[0;36mHTTPConnection.getresponse\u001b[0;34m(self)\u001b[0m\n\u001b[1;32m   1373\u001b[0m \u001b[38;5;28;01mtry\u001b[39;00m:\n\u001b[1;32m   1374\u001b[0m     \u001b[38;5;28;01mtry\u001b[39;00m:\n\u001b[0;32m-> 1375\u001b[0m         \u001b[43mresponse\u001b[49m\u001b[38;5;241;43m.\u001b[39;49m\u001b[43mbegin\u001b[49m\u001b[43m(\u001b[49m\u001b[43m)\u001b[49m\n\u001b[1;32m   1376\u001b[0m     \u001b[38;5;28;01mexcept\u001b[39;00m \u001b[38;5;167;01mConnectionError\u001b[39;00m:\n\u001b[1;32m   1377\u001b[0m         \u001b[38;5;28mself\u001b[39m\u001b[38;5;241m.\u001b[39mclose()\n",
      "File \u001b[0;32m/usr/lib/python3.11/http/client.py:318\u001b[0m, in \u001b[0;36mHTTPResponse.begin\u001b[0;34m(self)\u001b[0m\n\u001b[1;32m    316\u001b[0m \u001b[38;5;66;03m# read until we get a non-100 response\u001b[39;00m\n\u001b[1;32m    317\u001b[0m \u001b[38;5;28;01mwhile\u001b[39;00m \u001b[38;5;28;01mTrue\u001b[39;00m:\n\u001b[0;32m--> 318\u001b[0m     version, status, reason \u001b[38;5;241m=\u001b[39m \u001b[38;5;28;43mself\u001b[39;49m\u001b[38;5;241;43m.\u001b[39;49m\u001b[43m_read_status\u001b[49m\u001b[43m(\u001b[49m\u001b[43m)\u001b[49m\n\u001b[1;32m    319\u001b[0m     \u001b[38;5;28;01mif\u001b[39;00m status \u001b[38;5;241m!=\u001b[39m CONTINUE:\n\u001b[1;32m    320\u001b[0m         \u001b[38;5;28;01mbreak\u001b[39;00m\n",
      "File \u001b[0;32m/usr/lib/python3.11/http/client.py:279\u001b[0m, in \u001b[0;36mHTTPResponse._read_status\u001b[0;34m(self)\u001b[0m\n\u001b[1;32m    278\u001b[0m \u001b[38;5;28;01mdef\u001b[39;00m \u001b[38;5;21m_read_status\u001b[39m(\u001b[38;5;28mself\u001b[39m):\n\u001b[0;32m--> 279\u001b[0m     line \u001b[38;5;241m=\u001b[39m \u001b[38;5;28mstr\u001b[39m(\u001b[38;5;28mself\u001b[39m\u001b[38;5;241m.\u001b[39mfp\u001b[38;5;241m.\u001b[39mreadline(_MAXLINE \u001b[38;5;241m+\u001b[39m \u001b[38;5;241m1\u001b[39m), \u001b[38;5;124m\"\u001b[39m\u001b[38;5;124miso-8859-1\u001b[39m\u001b[38;5;124m\"\u001b[39m)\n\u001b[1;32m    280\u001b[0m     \u001b[38;5;28;01mif\u001b[39;00m \u001b[38;5;28mlen\u001b[39m(line) \u001b[38;5;241m>\u001b[39m _MAXLINE:\n\u001b[1;32m    281\u001b[0m         \u001b[38;5;28;01mraise\u001b[39;00m LineTooLong(\u001b[38;5;124m\"\u001b[39m\u001b[38;5;124mstatus line\u001b[39m\u001b[38;5;124m\"\u001b[39m)\n",
      "File \u001b[0;32m/usr/lib/python3.11/socket.py:706\u001b[0m, in \u001b[0;36mSocketIO.readinto\u001b[0;34m(self, b)\u001b[0m\n\u001b[1;32m    704\u001b[0m \u001b[38;5;28;01mwhile\u001b[39;00m \u001b[38;5;28;01mTrue\u001b[39;00m:\n\u001b[1;32m    705\u001b[0m     \u001b[38;5;28;01mtry\u001b[39;00m:\n\u001b[0;32m--> 706\u001b[0m         \u001b[38;5;28;01mreturn\u001b[39;00m \u001b[38;5;28;43mself\u001b[39;49m\u001b[38;5;241;43m.\u001b[39;49m\u001b[43m_sock\u001b[49m\u001b[38;5;241;43m.\u001b[39;49m\u001b[43mrecv_into\u001b[49m\u001b[43m(\u001b[49m\u001b[43mb\u001b[49m\u001b[43m)\u001b[49m\n\u001b[1;32m    707\u001b[0m     \u001b[38;5;28;01mexcept\u001b[39;00m timeout:\n\u001b[1;32m    708\u001b[0m         \u001b[38;5;28mself\u001b[39m\u001b[38;5;241m.\u001b[39m_timeout_occurred \u001b[38;5;241m=\u001b[39m \u001b[38;5;28;01mTrue\u001b[39;00m\n",
      "File \u001b[0;32m/usr/lib/python3.11/ssl.py:1278\u001b[0m, in \u001b[0;36mSSLSocket.recv_into\u001b[0;34m(self, buffer, nbytes, flags)\u001b[0m\n\u001b[1;32m   1274\u001b[0m     \u001b[38;5;28;01mif\u001b[39;00m flags \u001b[38;5;241m!=\u001b[39m \u001b[38;5;241m0\u001b[39m:\n\u001b[1;32m   1275\u001b[0m         \u001b[38;5;28;01mraise\u001b[39;00m \u001b[38;5;167;01mValueError\u001b[39;00m(\n\u001b[1;32m   1276\u001b[0m           \u001b[38;5;124m\"\u001b[39m\u001b[38;5;124mnon-zero flags not allowed in calls to recv_into() on \u001b[39m\u001b[38;5;132;01m%s\u001b[39;00m\u001b[38;5;124m\"\u001b[39m \u001b[38;5;241m%\u001b[39m\n\u001b[1;32m   1277\u001b[0m           \u001b[38;5;28mself\u001b[39m\u001b[38;5;241m.\u001b[39m\u001b[38;5;18m__class__\u001b[39m)\n\u001b[0;32m-> 1278\u001b[0m     \u001b[38;5;28;01mreturn\u001b[39;00m \u001b[38;5;28;43mself\u001b[39;49m\u001b[38;5;241;43m.\u001b[39;49m\u001b[43mread\u001b[49m\u001b[43m(\u001b[49m\u001b[43mnbytes\u001b[49m\u001b[43m,\u001b[49m\u001b[43m \u001b[49m\u001b[43mbuffer\u001b[49m\u001b[43m)\u001b[49m\n\u001b[1;32m   1279\u001b[0m \u001b[38;5;28;01melse\u001b[39;00m:\n\u001b[1;32m   1280\u001b[0m     \u001b[38;5;28;01mreturn\u001b[39;00m \u001b[38;5;28msuper\u001b[39m()\u001b[38;5;241m.\u001b[39mrecv_into(buffer, nbytes, flags)\n",
      "File \u001b[0;32m/usr/lib/python3.11/ssl.py:1134\u001b[0m, in \u001b[0;36mSSLSocket.read\u001b[0;34m(self, len, buffer)\u001b[0m\n\u001b[1;32m   1132\u001b[0m \u001b[38;5;28;01mtry\u001b[39;00m:\n\u001b[1;32m   1133\u001b[0m     \u001b[38;5;28;01mif\u001b[39;00m buffer \u001b[38;5;129;01mis\u001b[39;00m \u001b[38;5;129;01mnot\u001b[39;00m \u001b[38;5;28;01mNone\u001b[39;00m:\n\u001b[0;32m-> 1134\u001b[0m         \u001b[38;5;28;01mreturn\u001b[39;00m \u001b[38;5;28;43mself\u001b[39;49m\u001b[38;5;241;43m.\u001b[39;49m\u001b[43m_sslobj\u001b[49m\u001b[38;5;241;43m.\u001b[39;49m\u001b[43mread\u001b[49m\u001b[43m(\u001b[49m\u001b[38;5;28;43mlen\u001b[39;49m\u001b[43m,\u001b[49m\u001b[43m \u001b[49m\u001b[43mbuffer\u001b[49m\u001b[43m)\u001b[49m\n\u001b[1;32m   1135\u001b[0m     \u001b[38;5;28;01melse\u001b[39;00m:\n\u001b[1;32m   1136\u001b[0m         \u001b[38;5;28;01mreturn\u001b[39;00m \u001b[38;5;28mself\u001b[39m\u001b[38;5;241m.\u001b[39m_sslobj\u001b[38;5;241m.\u001b[39mread(\u001b[38;5;28mlen\u001b[39m)\n",
      "\u001b[0;31mKeyboardInterrupt\u001b[0m: "
     ]
    }
   ],
   "source": [
    "import requests\n",
    "from bs4 import BeautifulSoup\n",
    "import pandas as pd\n",
    "import urllib.parse\n",
    "\n",
    "# Crear una nueva sesión con un límite máximo de redirecciones\n",
    "s = requests.Session()\n",
    "s.max_redirects = 10\n",
    "\n",
    "# Leer el archivo CSV de localidades\n",
    "df_localidades = pd.read_csv(\"localidades_capital_federal.csv\")\n",
    "\n",
    "# Reemplazar espacios por guiones y convertir a minúsculas en cada localidad\n",
    "df_localidades[\"Localidad\"] = df_localidades[\"Localidad\"].str.replace(\" \", \"-\").str.lower()\n",
    "df_localidades[\"Localidad\"] = df_localidades[\"Localidad\"].str.split(\"-\").str[1:].str.join(\"-\")\n",
    "\n",
    "# Crear una lista para almacenar los datos de los CPAs\n",
    "data = []\n",
    "\n",
    "\n",
    "\n",
    "for localidad in df_localidades[\"Localidad\"]:\n",
    "    localidad_codificada = urllib.parse.quote(localidad)\n",
    "    url_localidad = f\"{base_url}/{localidad_codificada}\"\n",
    "    \n",
    "    try:\n",
    "        # Realizar solicitud GET sin redireccionamiento automático\n",
    "        response = s.get(url_localidad, allow_redirects=True)\n",
    "        \n",
    "        response.raise_for_status()  # Esta línea lanzará una excepción si la solicitud falla\n",
    "\n",
    "        soup = BeautifulSoup(response.content, \"html.parser\")\n",
    "        \n",
    "        # Obtener los textos de los elementos <a>\n",
    "        a_texts = []\n",
    "        tbody = soup.find(\"tbody\")\n",
    "        \n",
    "        if tbody:\n",
    "            rows = tbody.find_all(\"tr\")\n",
    "            \n",
    "            for row in rows:\n",
    "                cells = row.find_all(\"td\")\n",
    "                \n",
    "                for cell in cells:\n",
    "                    a_elements = cell.find_all(\"a\")\n",
    "                    \n",
    "                    for a in a_elements:\n",
    "                        a_texts.append(a.text)\n",
    "                        print(a_texts)\n",
    "        \n",
    "        # Agregar los datos a la lista\n",
    "        data.append({\"Localidad\": localidad, \"CPAs\": a_texts})\n",
    "        print(data)\n",
    "    except requests.exceptions.RequestException as e:\n",
    "        print(f\"Error al acceder a la página de {localidad}: {e}\")\n",
    "\n",
    "# Crear un DataFrame a partir de los datos recolectados\n",
    "df_resultado = pd.DataFrame(data)\n",
    "\n",
    "# Guardar el DataFrame en un archivo CSV\n",
    "df_resultado.to_csv(\"buenos_aires_cpa.csv\", index=False)\n",
    "print(\"Archivo CSV guardado exitosamente.\")\n"
   ]
  }
 ],
 "metadata": {
  "kernelspec": {
   "display_name": "Python 3 (ipykernel)",
   "language": "python",
   "name": "python3"
  },
  "language_info": {
   "codemirror_mode": {
    "name": "ipython",
    "version": 3
   },
   "file_extension": ".py",
   "mimetype": "text/x-python",
   "name": "python",
   "nbconvert_exporter": "python",
   "pygments_lexer": "ipython3",
   "version": "3.11.3"
  }
 },
 "nbformat": 4,
 "nbformat_minor": 5
}
