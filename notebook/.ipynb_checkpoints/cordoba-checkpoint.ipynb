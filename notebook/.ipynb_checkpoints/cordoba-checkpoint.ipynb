{
 "cells": [
  {
   "cell_type": "code",
   "execution_count": 1,
   "id": "24f91688-1680-46a9-88c3-7ae7d60b004a",
   "metadata": {
    "execution": {
     "iopub.execute_input": "2023-06-08T15:06:20.321455Z",
     "iopub.status.busy": "2023-06-08T15:06:20.320781Z",
     "iopub.status.idle": "2023-06-08T15:06:21.626769Z",
     "shell.execute_reply": "2023-06-08T15:06:21.625858Z",
     "shell.execute_reply.started": "2023-06-08T15:06:20.321391Z"
    }
   },
   "outputs": [],
   "source": [
    "import requests\n",
    "import pandas as pd\n",
    "from bs4 import BeautifulSoup"
   ]
  },
  {
   "cell_type": "code",
   "execution_count": 2,
   "id": "72a97fc1-da1b-403b-a665-b9965386e680",
   "metadata": {
    "execution": {
     "iopub.execute_input": "2023-06-08T15:06:21.717721Z",
     "iopub.status.busy": "2023-06-08T15:06:21.716749Z",
     "iopub.status.idle": "2023-06-08T15:06:22.784584Z",
     "shell.execute_reply": "2023-06-08T15:06:22.783144Z",
     "shell.execute_reply.started": "2023-06-08T15:06:21.717648Z"
    }
   },
   "outputs": [],
   "source": [
    "base_url = \"https://codigo-postal.co/argentina/cordoba/\"\n",
    "response = requests.get(base_url)"
   ]
  },
  {
   "cell_type": "code",
   "execution_count": 3,
   "id": "9d637d3f-6a8c-4239-8875-1704481b8a61",
   "metadata": {
    "execution": {
     "iopub.execute_input": "2023-06-08T15:06:22.873221Z",
     "iopub.status.busy": "2023-06-08T15:06:22.872716Z",
     "iopub.status.idle": "2023-06-08T15:06:23.163840Z",
     "shell.execute_reply": "2023-06-08T15:06:23.161897Z",
     "shell.execute_reply.started": "2023-06-08T15:06:22.873177Z"
    }
   },
   "outputs": [
    {
     "name": "stdout",
     "output_type": "stream",
     "text": [
      "Archivo CSV guardado exitosamente.\n"
     ]
    }
   ],
   "source": [
    "# Verificar el estado de la respuesta\n",
    "if response.status_code == 200:\n",
    "    # Parsear el contenido HTML con BeautifulSoup\n",
    "    soup = BeautifulSoup(response.content, \"html.parser\")\n",
    "    \n",
    "    # Encontrar la tabla que contiene las localidades de Córdoba\n",
    "    table = soup.find(\"ul\", class_=\"cities\")\n",
    "\n",
    "    # Encontrar todos los elementos <a> dentro del elemento <ul>\n",
    "    a_elements = table.find_all(\"a\")\n",
    "    \n",
    "    #  Obtener el texto de cada elemento <a>\n",
    "    localidades = [a.text for a in a_elements]\n",
    "    \n",
    "    # Crear un DataFrame con las localidades\n",
    "    df_localidades = pd.DataFrame({\"Localidad\": localidades})\n",
    "    \n",
    "    # Guardar el DataFrame en un archivo CSV\n",
    "    df_localidades.to_csv(\"localidades_cordoba.csv\", index=False)\n",
    "    \n",
    "    print(\"Archivo CSV guardado exitosamente.\")\n",
    "else:\n",
    "    print(\"Error al acceder a la página de Córdoba\")"
   ]
  },
  {
   "cell_type": "code",
   "execution_count": null,
   "id": "91c866e0-e1c7-4eb2-8b91-2fd5479675c3",
   "metadata": {
    "execution": {
     "iopub.status.busy": "2023-06-08T14:53:35.080500Z",
     "iopub.status.idle": "2023-06-08T14:53:35.081419Z",
     "shell.execute_reply": "2023-06-08T14:53:35.080953Z",
     "shell.execute_reply.started": "2023-06-08T14:53:35.080920Z"
    }
   },
   "outputs": [],
   "source": [
    "df_localidades = pd.read_csv(\"localidades_cordoba.csv\")\n",
    "\n",
    "# Reemplazar espacios por guiones y convertir a minúsculas en cada localidad\n",
    "df_localidades[\"Localidad\"] = df_localidades[\"Localidad\"].str.replace(\" \", \"-\").str.lower()\n",
    "\n",
    "# Crear una lista para almacenar los datos de los CPAs\n",
    "data = []\n",
    "\n",
    "for localidad in df_localidades[\"Localidad\"]:\n",
    "    url_localidad = f\"{base_url}/{localidad}\"\n",
    "    response = requests.get(url_localidad)\n",
    "    \n",
    "    if response.status_code == 200:\n",
    "        soup = BeautifulSoup(response.content, \"html.parser\")\n",
    "        \n",
    "        # Obtener los textos de los elementos <a>\n",
    "        a_texts = []\n",
    "        tbody = soup.find(\"tbody\")\n",
    "        \n",
    "        if tbody:\n",
    "            rows = tbody.find_all(\"tr\")\n",
    "            \n",
    "            for row in rows:\n",
    "                cells = row.find_all(\"td\")\n",
    "                \n",
    "                for cell in cells:\n",
    "                    a_elements = cell.find_all(\"a\")\n",
    "                    \n",
    "                    for a in a_elements:\n",
    "                        a_texts.append(a.text)\n",
    "        \n",
    "        # Agregar los datos a la lista\n",
    "        data.append({\"Localidad\": localidad, \"CPAs\": a_texts})\n",
    "        \n",
    "    else:\n",
    "        print(f\"Error al acceder a la página de {localidad}\")\n",
    "\n",
    "# Crear un DataFrame a partir de los datos recolectados\n",
    "df_resultado = pd.DataFrame(data)\n",
    "\n",
    "# Guardar el DataFrame en un archivo CSV\n",
    "df_resultado.to_csv(\"localidades_cordoba_cpa.csv\", index=False)\n",
    "print(\"Archivo CSV guardado exitosamente.\")"
   ]
  }
 ],
 "metadata": {
  "kernelspec": {
   "display_name": "Python 3 (ipykernel)",
   "language": "python",
   "name": "python3"
  },
  "language_info": {
   "codemirror_mode": {
    "name": "ipython",
    "version": 3
   },
   "file_extension": ".py",
   "mimetype": "text/x-python",
   "name": "python",
   "nbconvert_exporter": "python",
   "pygments_lexer": "ipython3",
   "version": "3.11.3"
  }
 },
 "nbformat": 4,
 "nbformat_minor": 5
}
