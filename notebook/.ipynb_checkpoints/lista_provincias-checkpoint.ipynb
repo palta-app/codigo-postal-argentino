{
 "cells": [
  {
   "cell_type": "code",
   "execution_count": 6,
   "id": "c393e9c9-6383-4e48-8242-f8c97a8db1ef",
   "metadata": {},
   "outputs": [
    {
     "name": "stdout",
     "output_type": "stream",
     "text": [
      "Collecting unidecode\n",
      "  Downloading Unidecode-1.3.6-py3-none-any.whl (235 kB)\n",
      "\u001b[2K     \u001b[90m━━━━━━━━━━━━━━━━━━━━━━━━━━━━━━━━━━━━━━━\u001b[0m \u001b[32m235.9/235.9 kB\u001b[0m \u001b[31m2.9 MB/s\u001b[0m eta \u001b[36m0:00:00\u001b[0m00:01\u001b[0m00:01\u001b[0m\n",
      "\u001b[?25hInstalling collected packages: unidecode\n",
      "Successfully installed unidecode-1.3.6\n"
     ]
    }
   ],
   "source": [
    "!pip install unidecode"
   ]
  },
  {
   "cell_type": "code",
   "execution_count": 8,
   "id": "3a0eb964-8f88-44e1-9969-0d35745cded6",
   "metadata": {},
   "outputs": [],
   "source": [
    "import requests\n",
    "from bs4 import BeautifulSoup\n",
    "import pandas as pd\n",
    "from unidecode import unidecode\n",
    "\n",
    "# URL base\n",
    "base_url = \"https://codigo-postal.co/argentina/\"\n",
    "\n",
    "# Solicita la página\n",
    "response = requests.get(base_url)\n",
    "\n",
    "# Analiza el HTML de la página\n",
    "soup = BeautifulSoup(response.text, 'html.parser')\n",
    "\n",
    "# Encuentra el elemento ul con class=\"column-list\"\n",
    "provinces_ul = soup.find('ul', class_='column-list')\n",
    "\n",
    "# Encuentra todos los elementos li dentro del ul\n",
    "provinces_li = provinces_ul.find_all('li')\n",
    "\n",
    "# Extrae el texto de cada elemento li, lo convierte a minúsculas, elimina los tildes y reemplaza los espacios por guiones\n",
    "provinces = [unidecode(li.text.lower().replace(' ', '-')) for li in provinces_li]\n",
    "\n",
    "# Crea un DataFrame a partir de la lista\n",
    "df_provinces = pd.DataFrame(provinces, columns=['Provincia'])\n",
    "\n",
    "# Guarda el DataFrame en un archivo CSV\n",
    "df_provinces.to_csv('../data/lista_provincias.csv', index=False)\n"
   ]
  }
 ],
 "metadata": {
  "kernelspec": {
   "display_name": "Python 3 (ipykernel)",
   "language": "python",
   "name": "python3"
  },
  "language_info": {
   "codemirror_mode": {
    "name": "ipython",
    "version": 3
   },
   "file_extension": ".py",
   "mimetype": "text/x-python",
   "name": "python",
   "nbconvert_exporter": "python",
   "pygments_lexer": "ipython3",
   "version": "3.11.2"
  }
 },
 "nbformat": 4,
 "nbformat_minor": 5
}
