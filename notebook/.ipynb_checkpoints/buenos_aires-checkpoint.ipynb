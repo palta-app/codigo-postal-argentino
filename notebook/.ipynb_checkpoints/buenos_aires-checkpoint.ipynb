{
 "cells": [
  {
   "cell_type": "code",
   "execution_count": 16,
   "id": "46747e65-64b1-46f7-8819-8e579350d952",
   "metadata": {
    "execution": {
     "iopub.execute_input": "2023-06-08T18:45:25.787399Z",
     "iopub.status.busy": "2023-06-08T18:45:25.785965Z",
     "iopub.status.idle": "2023-06-08T18:45:25.792418Z",
     "shell.execute_reply": "2023-06-08T18:45:25.791521Z",
     "shell.execute_reply.started": "2023-06-08T18:45:25.787314Z"
    }
   },
   "outputs": [],
   "source": [
    "import pandas as pd\n",
    "import requests\n",
    "from bs4 import BeautifulSoup\n",
    "import urllib.parse"
   ]
  },
  {
   "cell_type": "code",
   "execution_count": 25,
   "id": "0e1844d9-c8ca-48a5-b3d5-a78f78ffe5cb",
   "metadata": {
    "execution": {
     "iopub.execute_input": "2023-06-08T19:32:20.615666Z",
     "iopub.status.busy": "2023-06-08T19:32:20.615200Z",
     "iopub.status.idle": "2023-06-08T19:32:21.572878Z",
     "shell.execute_reply": "2023-06-08T19:32:21.571967Z",
     "shell.execute_reply.started": "2023-06-08T19:32:20.615645Z"
    }
   },
   "outputs": [],
   "source": [
    "base_url = \"https://codigo-postal.co/argentina/buenos-aires/\"\n",
    "response = requests.get(base_url)\n",
    "\n",
    "localidad_codificada = urllib.parse.quote(localidad)\n",
    "url_localidad = f\"{base_url}/{localidad_codificada}\"\n",
    "\n",
    "\n",
    "# Leer el archivo CSV de localidades\n",
    "df_localidades = pd.read_csv(\"localidades_buenos_aires.csv\")\n",
    "\n",
    "# Reemplazar espacios por guiones y convertir a minúsculas en cada localidad\n",
    "df_localidades[\"Localidad\"] = df_localidades[\"Localidad\"].str.replace(\" \", \"-\").str.lower()\n"
   ]
  },
  {
   "cell_type": "code",
   "execution_count": 18,
   "id": "65af51a1-4cab-485e-978e-2871854a751a",
   "metadata": {
    "execution": {
     "iopub.execute_input": "2023-06-08T18:47:42.319085Z",
     "iopub.status.busy": "2023-06-08T18:47:42.318396Z",
     "iopub.status.idle": "2023-06-08T18:47:42.432646Z",
     "shell.execute_reply": "2023-06-08T18:47:42.431758Z",
     "shell.execute_reply.started": "2023-06-08T18:47:42.319012Z"
    }
   },
   "outputs": [
    {
     "name": "stdout",
     "output_type": "stream",
     "text": [
      "Archivo CSV guardado exitosamente.\n"
     ]
    }
   ],
   "source": [
    "# Verificar el estado de la respuesta\n",
    "if response.status_code == 200:\n",
    "    # Parsear el contenido HTML con BeautifulSoup\n",
    "    soup = BeautifulSoup(response.content, \"html.parser\")\n",
    "    \n",
    "    # Encontrar la tabla que contiene las localidades de Córdoba\n",
    "    table = soup.find(\"ul\", class_=\"cities\")\n",
    "\n",
    "    # Encontrar todos los elementos <a> dentro del elemento <ul>\n",
    "    a_elements = table.find_all(\"a\")\n",
    "    \n",
    "    #  Obtener el texto de cada elemento <a>\n",
    "    localidades = [a.text for a in a_elements]\n",
    "    \n",
    "    # Crear un DataFrame con las localidades\n",
    "    df_localidades = pd.DataFrame({\"Localidad\": localidades})\n",
    "    \n",
    "    # Guardar el DataFrame en un archivo CSV\n",
    "    df_localidades.to_csv(\"localidades_buenos_aires.csv\", index=False)\n",
    "    \n",
    "    print(\"Archivo CSV guardado exitosamente.\")\n",
    "else:\n",
    "    print(\"Error al acceder a la página de Buenos Aires\")"
   ]
  },
  {
   "cell_type": "code",
   "execution_count": null,
   "id": "8f6c470e-4b4e-4945-bf88-27a10d397d2b",
   "metadata": {
    "execution": {
     "iopub.execute_input": "2023-06-08T19:43:12.113828Z",
     "iopub.status.busy": "2023-06-08T19:43:12.111990Z"
    }
   },
   "outputs": [],
   "source": [
    "df_localidades = pd.read_csv(\"localidades_buenos_aires.csv\")\n",
    "\n",
    "# Reemplazar espacios por guiones y convertir a minúsculas en cada localidad\n",
    "df_localidades[\"Localidad\"] = df_localidades[\"Localidad\"].str.replace(\" \", \"-\").str.lower()\n",
    "\n",
    "# Crear una lista para almacenar los datos de los CPAs\n",
    "data = []\n",
    "\n",
    "for localidad in df_localidades[\"Localidad\"]:\n",
    "    url_localidad = f\"{base_url}/{localidad}\"\n",
    "    response = requests.get(url_localidad)\n",
    "    \n",
    "    if response.status_code == 200:\n",
    "        soup = BeautifulSoup(response.content, \"html.parser\")\n",
    "        \n",
    "        # Obtener los textos de los elementos <a>\n",
    "        a_texts = []\n",
    "        tbody = soup.find(\"tbody\")\n",
    "        \n",
    "        if tbody:\n",
    "            rows = tbody.find_all(\"tr\")\n",
    "            \n",
    "            for row in rows:\n",
    "                cells = row.find_all(\"td\")\n",
    "                \n",
    "                for cell in cells:\n",
    "                    a_elements = cell.find_all(\"a\")\n",
    "                    \n",
    "                    for a in a_elements:\n",
    "                        a_texts.append(a.text)\n",
    "        \n",
    "        # Agregar los datos a la lista\n",
    "        data.append({\"Localidad\": localidad, \"CPAs\": a_texts})\n",
    "        \n",
    "    else:\n",
    "        print(f\"Error al acceder a la página de {localidad}\")\n",
    "\n",
    "# Crear un DataFrame a partir de los datos recolectados\n",
    "df_resultado = pd.DataFrame(data)\n",
    "\n",
    "# Guardar el DataFrame en un archivo CSV\n",
    "df_resultado.to_csv(\"buenos_aires_cpa.csv\", index=False)\n",
    "print(\"Archivo CSV guardado exitosamente.\")"
   ]
  }
 ],
 "metadata": {
  "kernelspec": {
   "display_name": "Python 3 (ipykernel)",
   "language": "python",
   "name": "python3"
  },
  "language_info": {
   "codemirror_mode": {
    "name": "ipython",
    "version": 3
   },
   "file_extension": ".py",
   "mimetype": "text/x-python",
   "name": "python",
   "nbconvert_exporter": "python",
   "pygments_lexer": "ipython3",
   "version": "3.11.3"
  }
 },
 "nbformat": 4,
 "nbformat_minor": 5
}
